{
 "cells": [
  {
   "cell_type": "code",
   "execution_count": 7,
   "id": "6fe8e0ad",
   "metadata": {},
   "outputs": [],
   "source": [
    "import numpy as np\n",
    "import numpy.linalg as linalg\n",
    "import matplotlib.pyplot as plt\n",
    "\n",
    "from Generation import *\n",
    "from Calculations import *\n",
    "from SSWM import *"
   ]
  },
  {
   "cell_type": "code",
   "execution_count": 37,
   "id": "d5361bf2",
   "metadata": {},
   "outputs": [],
   "source": [
    "#Set initial parameters\n",
    "M, N, K = 10, 20, 3\n",
    "coefLambda, coefC, coefBeta = 1, 1, 0.85\n",
    "h = 1.5 #0 < h < K/2 #Чем меньше, тем адекватнее\n",
    "p_mut = 1/N\n",
    "T_stop = 500\n",
    "N_pop = 1 # Only one boolean vector"
   ]
  },
  {
   "cell_type": "code",
   "execution_count": 10,
   "id": "e3b409e1",
   "metadata": {},
   "outputs": [],
   "source": [
    "#Simple flip mutation\n",
    "def mutate(s, N, N_pop, p_mut):\n",
    "    for i in range(N_pop):\n",
    "        for j in range(N):\n",
    "            r = np.random.sample()\n",
    "            if (r <= p_mut):\n",
    "                s[j, i] = 1 - s[j, i]\n",
    "    return s   "
   ]
  },
  {
   "cell_type": "code",
   "execution_count": 13,
   "id": "1539842c",
   "metadata": {},
   "outputs": [],
   "source": [
    "#Generating matrices W, B, C\n",
    "def generateWBC(N, M, K):\n",
    "    #Generating W MxN matrix, that holds weights w_i_j for f_i(s) = sigmoid(sum(w_i_j*s_j) - h_i)\n",
    "    #Poisson dist for non-zero weights. It consists of Ki - values representing number of non-zero weights\n",
    "    poisson_distr = np.random.poisson(K, size=(N,))\n",
    "    \n",
    "    print(\"--------------DEBUG---------------\")\n",
    "    print(\"Average non-zero:\", np.absolute(poisson_distr.mean()))\n",
    "    print(\"Weights M vector for M traits: \", poisson_distr)\n",
    "    \n",
    "    W = np.zeros((N,M))\n",
    "    for i in range(N):\n",
    "        #Generating -1 and 1 weights\n",
    "        weights = np.random.choice([1,-1], size=poisson_distr[i], p=[0.5, 0.5])\n",
    "        #Generating M - Ki zero weights\n",
    "        weights = np.concatenate( (weights, np.zeros( (M - poisson_distr[i], ) ) ) )\n",
    "        \n",
    "        weights = np.random.permutation(weights)\n",
    "        W[i] = weights\n",
    "    W = W.astype(int)\n",
    "\n",
    "    #Generating B\n",
    "    B = np.random.uniform(low=1.0, high=10.0, size=(M,M))\n",
    "    B = np.tril(B) + np.tril(B, -1).T\n",
    "    \n",
    "    #Generating C\n",
    "    C = np.random.uniform(low=1.0, high=10.0, size=(M,))\n",
    "    \n",
    "    return (W, B, C)"
   ]
  },
  {
   "cell_type": "code",
   "execution_count": 14,
   "id": "86753ab9",
   "metadata": {},
   "outputs": [],
   "source": [
    "#Generating boolean vector\n",
    "def generateGenPool(N, N_pop):\n",
    "    s = np.random.choice([0,1], (N, N_pop))\n",
    "    return s\n",
    "    "
   ]
  },
  {
   "cell_type": "code",
   "execution_count": 9,
   "id": "119a170a",
   "metadata": {},
   "outputs": [],
   "source": [
    "def SSWM(M, N, K, coefLambda, coefC, coefBeta, h, p_mut, T_stop, N_pop, W, B, C):\n",
    "    C = C.reshape(-1,)\n",
    "    fitnessValues = []\n",
    "    \n",
    "    #Calculating max W and Fitness\n",
    "    W_max = np.dot(((linalg.inv(B))@C), C)\n",
    "    W_max = -W_max/2\n",
    "    F_max = coefC*np.exp(W_max*coefLambda)\n",
    "    \n",
    "    #Generating genetic pool\n",
    "    s = generateGenPool(N, N_pop)\n",
    "    F = calculate_Fitness(B, C, W, s, h, coefC, coefLambda, M, N)\n",
    "    \n",
    "    print(\"------DEBUG-----\\nInitial F -\", F)\n",
    "    T = 0\n",
    "    while (T < T_stop and F < coefBeta*F_max):\n",
    "        F = calculate_Fitness(B, C, W, s, h, coefC, coefLambda, M, N)\n",
    "        fitnessValues.append(F)\n",
    "        \n",
    "        s_mut = mutate(s, N, N_pop, p_mut)\n",
    "        F_mut = calculate_Fitness(B, C, W, s_mut, h, coefC, coefLambda, M, N)\n",
    "        if (F_mut > F):\n",
    "            s = s_mut\n",
    "        T += 1\n",
    "    \n",
    "    plt.plot(range(T), fitnessValues)\n",
    "    plt.show()\n",
    "    return (F_max, W_max, fitnessValues)"
   ]
  },
  {
   "cell_type": "code",
   "execution_count": 29,
   "id": "56a11eff",
   "metadata": {},
   "outputs": [],
   "source": [
    "#Calculate fitness F = coefC * exp(coefLambda * W_fit)\n",
    "def calculate_Fitness(B, C, W, s, h, coefC, coefLambda, M, N):\n",
    "    F = calculate_F(W, s, h, M, N)\n",
    "    \n",
    "    #W_fit = (B*F, F)/2  + (C, F) or W_fit = sum(C[i]F[i]) + sum(sum(B[i][j]*F[i]*F[j]))\n",
    "    W_fit = np.dot((B@F), F)/2 + np.dot(C, F)\n",
    "    print(\"-------------Fitness-----------\", (B@F), np.dot((B@F), F)/2, np.dot(C, F), sep = \"\\n\")\n",
    "\n",
    "    return coefC*np.exp(coefLambda*W_fit)"
   ]
  },
  {
   "cell_type": "code",
   "execution_count": 28,
   "id": "2d42ab95",
   "metadata": {},
   "outputs": [],
   "source": [
    "#Calculate vector F: f_i = sigmoid(sum(W[i][j]*s[i]) - h)\n",
    "def calculate_F(W, s, h, M, N):\n",
    "    F = np.zeros(M, )\n",
    "    print(\"--------Trait F------------\")\n",
    "    for j in range(M):\n",
    "        f_j = 0\n",
    "        for i in range(N):\n",
    "            f_j += W[i][j]*s[i]\n",
    "            \n",
    "        print(f_j, f_j-h, end=\" \")\n",
    "        f_j = f_j - h\n",
    "        #Sigmoid\n",
    "        F[j] = 1/(1 + np.exp(-0.5*f_j))\n",
    "        print(F[j])\n",
    "    return F"
   ]
  },
  {
   "cell_type": "code",
   "execution_count": 38,
   "id": "d8690c74",
   "metadata": {
    "scrolled": true
   },
   "outputs": [
    {
     "name": "stdout",
     "output_type": "stream",
     "text": [
      "--------------DEBUG---------------\n",
      "Average non-zero: 3.2\n",
      "Weights M vector for M traits:  [4 2 1 5 3 5 4 5 5 2 3 3 2 1 3 0 6 3 3 4]\n"
     ]
    }
   ],
   "source": [
    "W,B,C = generateWBC(N,M,K)"
   ]
  },
  {
   "cell_type": "code",
   "execution_count": 39,
   "id": "fc3a6ce9",
   "metadata": {},
   "outputs": [
    {
     "name": "stdout",
     "output_type": "stream",
     "text": [
      "[[5.2892784  9.76876655 8.3291675  6.96081046 7.09306651 8.47888001\n",
      "  4.26844478 5.50953449 6.99524991 1.22532383]\n",
      " [9.76876655 2.12839142 7.87274602 4.58621832 2.92088426 1.03065207\n",
      "  7.44402593 6.24135637 5.13122729 4.52329278]\n",
      " [8.3291675  7.87274602 6.38999206 6.66287937 5.4499627  5.88278869\n",
      "  3.89836897 6.49464716 8.39194394 6.50976188]\n",
      " [6.96081046 4.58621832 6.66287937 2.19969465 8.00285158 7.88391524\n",
      "  4.18293746 5.25612764 1.91987016 4.13078777]\n",
      " [7.09306651 2.92088426 5.4499627  8.00285158 2.92306841 9.8203391\n",
      "  4.57210894 9.59008298 8.42686509 6.75575353]\n",
      " [8.47888001 1.03065207 5.88278869 7.88391524 9.8203391  4.19509592\n",
      "  1.50841045 8.68525914 5.10599965 5.06155415]\n",
      " [4.26844478 7.44402593 3.89836897 4.18293746 4.57210894 1.50841045\n",
      "  6.72157197 1.89242851 5.25810864 5.60674967]\n",
      " [5.50953449 6.24135637 6.49464716 5.25612764 9.59008298 8.68525914\n",
      "  1.89242851 9.502189   1.59414789 8.16816529]\n",
      " [6.99524991 5.13122729 8.39194394 1.91987016 8.42686509 5.10599965\n",
      "  5.25810864 1.59414789 7.0753898  3.52207551]\n",
      " [1.22532383 4.52329278 6.50976188 4.13078777 6.75575353 5.06155415\n",
      "  5.60674967 8.16816529 3.52207551 3.010222  ]]\n"
     ]
    }
   ],
   "source": [
    "print(B)"
   ]
  },
  {
   "cell_type": "code",
   "execution_count": 40,
   "id": "0041d0c9",
   "metadata": {},
   "outputs": [
    {
     "name": "stdout",
     "output_type": "stream",
     "text": [
      "--------Trait F------------\n",
      "[-1] [-2.5] 0.22270013882530884\n",
      "[-1] [-2.5] 0.22270013882530884\n",
      "[-1] [-2.5] 0.22270013882530884\n",
      "[0] [-1.5] 0.320821300824607\n",
      "[3] [1.5] 0.679178699175393\n",
      "[1] [-0.5] 0.43782349911420193\n",
      "[1] [-0.5] 0.43782349911420193\n",
      "[1] [-0.5] 0.43782349911420193\n",
      "[-1] [-2.5] 0.22270013882530884\n",
      "[0] [-1.5] 0.320821300824607\n",
      "-------------Fitness-----------\n",
      "[22.20320653 16.89483863 21.95359987 19.53363223 22.54075605 21.68766593\n",
      " 15.32536623 24.02992187 18.84999045 18.64071005]\n",
      "36.0382442818614\n",
      "19.99311267450708\n",
      "------DEBUG-----\n",
      "Initial F - 2.158286725910056e+24\n"
     ]
    },
    {
     "data": {
      "image/png": "[encoded data removed]",
      "text/plain": [
       "<Figure size 432x288 with 1 Axes>"
      ]
     },
     "metadata": {
      "needs_background": "light"
     },
     "output_type": "display_data"
    },
    {
     "data": {
      "text/plain": [
       "(2.7983120853381878, 1.029016408743176, [])"
      ]
     },
     "execution_count": 40,
     "metadata": {},
     "output_type": "execute_result"
    }
   ],
   "source": [
    "#При больших K, B, C случается переполнение в calculate_Fitness\n",
    "F_max, W_max, vals = SSWM(M, N, K, coefLambda, coefC, coefBeta, h, p_mut, T_stop, N_pop, W, B, C)\n",
    "F_max, W_max, vals"
   ]
  },
  {
   "cell_type": "code",
   "execution_count": null,
   "id": "33fdff47",
   "metadata": {},
   "outputs": [],
   "source": []
  }
 ],
 "metadata": {
  "kernelspec": {
   "display_name": "Python 3 (ipykernel)",
   "language": "python",
   "name": "python3"
  },
  "language_info": {
   "codemirror_mode": {
    "name": "ipython",
    "version": 3
   },
   "file_extension": ".py",
   "mimetype": "text/x-python",
   "name": "python",
   "nbconvert_exporter": "python",
   "pygments_lexer": "ipython3",
   "version": "3.10.2"
  }
 },
 "nbformat": 4,
 "nbformat_minor": 5
}
