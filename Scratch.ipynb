{
 "cells": [
  {
   "cell_type": "code",
   "execution_count": 1,
   "id": "6fe8e0ad",
   "metadata": {},
   "outputs": [],
   "source": [
    "import numpy as np\n",
    "import numpy.linalg as linalg\n",
    "import matplotlib.pyplot as plt\n",
    "import math"
   ]
  },
  {
   "cell_type": "code",
   "execution_count": 43,
   "id": "b07bd488",
   "metadata": {},
   "outputs": [],
   "source": [
    "M, N, K = 80, 100, 15"
   ]
  },
  {
   "cell_type": "code",
   "execution_count": 44,
   "id": "bab43406",
   "metadata": {},
   "outputs": [],
   "source": [
    "lamb, C_fit, beta = 0.75, 1.5, 0.95"
   ]
  },
  {
   "cell_type": "code",
   "execution_count": 128,
   "id": "50a538ba",
   "metadata": {},
   "outputs": [],
   "source": [
    "h = K/3# 0 < h < k/2\n",
    "p_mut = 0.35\n",
    "T_stop = 500"
   ]
  },
  {
   "cell_type": "code",
   "execution_count": 113,
   "id": "1bdaf10f",
   "metadata": {},
   "outputs": [],
   "source": [
    "def generateMatrices(N, M, K):\n",
    "    #Генерация W_trait - матрица MxN весов для вычисления f_i(s) = sigmoid(sum(w_i_j*s_j) - h_i)\n",
    "    #Распределние Пуассона ненулевых весов M фенотипов\n",
    "    poisson_distr = np.random.poisson(K, size=(N,))\n",
    "    \n",
    "    #Проверка на то, что среднее количество ненулевых весов равно K\n",
    "    print(\"Average non-zero:\", np.absolute(poisson_distr.mean()))\n",
    "    print(\"Weights M vector for M traits: \", poisson_distr)\n",
    "    \n",
    "    W_trait = np.zeros((N,M))\n",
    "    for i in range(N):\n",
    "        #Генирируем -1 и 1\n",
    "        weights = np.random.choice([1,-1], size=poisson_distr[i], p=[0.5, 0.5])\n",
    "        #Создаём последовательности N - ki нулей\n",
    "        weights = np.concatenate( (weights, np.zeros( (M - poisson_distr[i], ) ) ) )\n",
    "        #Делаем перестановку\n",
    "        weights = np.random.permutation(weights)\n",
    "        W_trait[i] = weights\n",
    "    W_trait = W_trait.astype(int)\n",
    "\n",
    "    \n",
    "    #Генерация B\n",
    "    B = np.random.uniform(low=0.0, high=3.0, size=(M,M))\n",
    "    B = np.tril(B) + np.tril(B, -1).T\n",
    "    \n",
    "    #Генерация C\n",
    "    C = np.random.uniform(low=0.0, high=3.0, size=(M,))\n",
    "    \n",
    "    return (W_trait, B, C)"
   ]
  },
  {
   "cell_type": "code",
   "execution_count": 66,
   "id": "6ff4ade9",
   "metadata": {},
   "outputs": [],
   "source": [
    "def generateGenPool(N, N_pop):\n",
    "    s = np.random.choice([0,1], (N, N_pop))\n",
    "    return s"
   ]
  },
  {
   "cell_type": "code",
   "execution_count": 67,
   "id": "1d44c8a3",
   "metadata": {},
   "outputs": [],
   "source": [
    "def mutate(s, N, N_pop, p_mut):\n",
    "    #print(s.reshape(-1, ))\n",
    "    for i in range(N_pop):\n",
    "        for j in range(N):\n",
    "            r = np.random.sample()\n",
    "            if (r <= p_mut):\n",
    "                s[j, i] = 1 - s[j, i]\n",
    "    #print(s.reshape(-1, ))\n",
    "    return s            "
   ]
  },
  {
   "cell_type": "code",
   "execution_count": 124,
   "id": "aef94da1",
   "metadata": {},
   "outputs": [],
   "source": [
    "#Вычисляет вектор, в котором каждый элемент это значение функции\n",
    "#f_j(s) = sigmoid(sum(w_j_i*s_i) - h)\n",
    "def TraitPotential(W, s, h, M, N):\n",
    "    F = np.zeros(M, )\n",
    "    for j in range(M):\n",
    "        f_j = 0\n",
    "        for i in range(N):\n",
    "            #f_j += W[j][i]*s[i] - h\n",
    "            \n",
    "            #h*s[i]^2 добавлено, чтобы не накапливалось отрицательное значение на 0ых генах\n",
    "            #f_j += W[j][i]*s[i] - h*(s[i]**2)\n",
    "            \n",
    "            f_j += W[i][j]*s[i]\n",
    "        \n",
    "        #Сигомида\n",
    "    #    print(f_j)\n",
    "        f_j = f_j - h\n",
    "       # print(f_j)\n",
    "      #  F[j] = np.heaviside(f_j, 0.5)\n",
    "        #F[j] = 1 / (1 + np.exp(-f_j))\n",
    "      #  print(F[j])\n",
    "    return F"
   ]
  },
  {
   "cell_type": "code",
   "execution_count": 119,
   "id": "c05fd3f9",
   "metadata": {},
   "outputs": [],
   "source": [
    "def Fitness(B, C, s, W_trait, h, C_fit, lamb):\n",
    "    F = TraitPotential(W_trait, s, h, M, N)\n",
    "    W = np.dot((B@F), F)/2 + np.dot(C, F)\n",
    "   # print(W)\n",
    "#     W = 0\n",
    "#     for i in range(M):\n",
    "#         for j in range(M):\n",
    "#             W += B[i][j]*F[j]\n",
    "#     W *= 0.5\n",
    "#     for i in range(M):\n",
    "#         W += C[i]*F[i]\n",
    "    return C_fit*np.exp(lamb*W)"
   ]
  },
  {
   "cell_type": "code",
   "execution_count": 120,
   "id": "7b66f5c8",
   "metadata": {},
   "outputs": [],
   "source": [
    "def SSWM(M, N, K, lamb, C_fit, beta, h, p_mut, T_stop, W, B, C, N_pop):\n",
    "    C = C.reshape(-1,)\n",
    "    Fitness_vals = []\n",
    "    W_max = np.dot(((linalg.inv(B))@C), C)\n",
    "    W_max = W_max * (-0.5)\n",
    "    F_max = C_fit*np.exp(W_max*lamb)\n",
    "    \n",
    "    s = generateGenPool(N, N_pop)\n",
    "    F = Fitness(B, C, s, W_trait, h, C_fit, lamb)\n",
    "    T = 0\n",
    "    print(F_max , F)\n",
    "    while (T < T_stop and beta*F < beta*F_max):\n",
    "        F = Fitness(B, C, s, W_trait, h, C_fit, lamb)\n",
    "        Fitness_vals.append(F)\n",
    "        \n",
    "        s_mut = mutate(s, N, N_pop, p_mut)\n",
    "        F_mut = Fitness(B, C, s_mut, W_trait, h, C_fit, lamb)\n",
    "        if (F_mut > F):\n",
    "            s = s_mut\n",
    "        #print(F)\n",
    "        T += 1\n",
    "    \n",
    "    plt.plot(range(T), Fitness_vals)\n",
    "    plt.show()\n",
    "  #  print(Fitness_vals)\n",
    "  #  print(max(Fitness_vals))"
   ]
  },
  {
   "cell_type": "code",
   "execution_count": 129,
   "id": "33fcc1b4",
   "metadata": {},
   "outputs": [
    {
     "name": "stdout",
     "output_type": "stream",
     "text": [
      "Average non-zero: 15.31\n",
      "Weights M vector for M traits:  [10 11 12 11 20 21 16 15 18 20 19 20 12 10 13 13  8 19 12 13 10 20 21 21\n",
      " 19 15 13 27 15 16 11 19 17 15 13 21  9 14 17 17 17 12 22 15 14 14 12 19\n",
      " 27 18 16 14 12 15 16 11 17 21 13 12 16 18 13 16 17 14 14  7 21 14 14 18\n",
      " 13 13 14 18 16 16 12 11 10 15 15 13 13 10 16 16 15 16 21 11 15 20 17 13\n",
      " 15 16 18 11]\n",
      "W_trait matrix:\n",
      "[[ 0  0  0 ...  0  0 -1]\n",
      " [ 0  0  0 ...  0  0  0]\n",
      " [ 0  0  0 ...  0  0  0]\n",
      " ...\n",
      " [ 0  0  0 ...  0  0  0]\n",
      " [ 0 -1  0 ...  0  0  0]\n",
      " [ 0  1  0 ...  0  0  0]]\n",
      "{-1: 787, 0: 6469, 1: 744}\n"
     ]
    }
   ],
   "source": [
    "W_trait, B, C = generateMatrices(N, M, K)\n",
    "print(\"W_trait matrix:\\n\", W_trait, sep=\"\")\n",
    "\n",
    "#Подсчёт кол-ва -1, 1, 0\n",
    "unique, counts = np.unique(W_trait, return_counts=True)\n",
    "print(dict(zip(unique, counts)))"
   ]
  },
  {
   "cell_type": "code",
   "execution_count": 130,
   "id": "be3dfa50",
   "metadata": {},
   "outputs": [
    {
     "name": "stdout",
     "output_type": "stream",
     "text": [
      "3.551615003590772 1.5\n"
     ]
    },
    {
     "data": {
      "image/png": "[encoded data removed]",
      "text/plain": [
       "<Figure size 432x288 with 1 Axes>"
      ]
     },
     "metadata": {
      "needs_background": "light"
     },
     "output_type": "display_data"
    }
   ],
   "source": [
    "SSWM(M, N, K, lamb, C_fit, beta, h, p_mut, 500, W_trait, B, C,N_pop=1)"
   ]
  },
  {
   "cell_type": "code",
   "execution_count": 123,
   "id": "6711ac83",
   "metadata": {},
   "outputs": [
    {
     "name": "stdout",
     "output_type": "stream",
     "text": [
      "[[10 12 15 ... 12 12 11]\n",
      " [18 17 12 ... 15 11 19]\n",
      " [14 14 11 ... 10 13 20]\n",
      " ...\n",
      " [13 11 18 ... 14 14  8]\n",
      " [13 22 11 ... 16 13 13]\n",
      " [11  7 13 ... 12 10 11]]\n",
      "Average non-zero: 11.98975\n"
     ]
    }
   ],
   "source": [
    "poisson_distr = np.random.poisson((K*M)/N, (M, N))\n",
    "print(poisson_distr)\n",
    "print(\"Average non-zero:\", np.absolute(poisson_distr.mean()))"
   ]
  },
  {
   "cell_type": "code",
   "execution_count": null,
   "id": "6ffa6423",
   "metadata": {},
   "outputs": [],
   "source": []
  }
 ],
 "metadata": {
  "kernelspec": {
   "display_name": "Python 3 (ipykernel)",
   "language": "python",
   "name": "python3"
  },
  "language_info": {
   "codemirror_mode": {
    "name": "ipython",
    "version": 3
   },
   "file_extension": ".py",
   "mimetype": "text/x-python",
   "name": "python",
   "nbconvert_exporter": "python",
   "pygments_lexer": "ipython3",
   "version": "3.10.2"
  }
 },
 "nbformat": 4,
 "nbformat_minor": 5
}
