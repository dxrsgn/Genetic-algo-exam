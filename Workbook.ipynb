{
 "cells": [
  {
   "cell_type": "code",
   "execution_count": 1,
   "id": "d34b5412",
   "metadata": {},
   "outputs": [],
   "source": [
    "import numpy as np\n",
    "import numpy.linalg as linalg\n",
    "import matplotlib.pyplot as plt\n",
    "\n",
    "from Generation import *\n",
    "from Calculations import *\n",
    "from SSWM import *"
   ]
  },
  {
   "cell_type": "code",
   "execution_count": 2,
   "id": "e1205e58",
   "metadata": {},
   "outputs": [],
   "source": [
    "#Set initial parameters\n",
    "M, N, K = 50, 80, 10\n",
    "coefLambda, coefC, coefBeta = 1.1, 1.1, 0.85\n",
    "h = K/3 #0 < h < K/2\n",
    "p_mut = 1/N\n",
    "T_stop = 500\n",
    "N_pop = 1 # Only one boolean vector"
   ]
  },
  {
   "cell_type": "code",
   "execution_count": 3,
   "id": "643ed70d",
   "metadata": {},
   "outputs": [
    {
     "name": "stdout",
     "output_type": "stream",
     "text": [
      "--------------DEBUG---------------\n",
      "Average non-zero: 10.15\n",
      "Weights M vector for M traits:  [ 9 15  5 11  6 17 13  7  9 12  8 13  7  7 12  8  8 15  7  8  3 11  5  9\n",
      " 11  8 17 10  8  6 10 13 13 11 11  8 12 15 13  7  3  6  8 10 13 13  8 17\n",
      " 11 11 10 15  7 11 10 10 12 15  4 12 13 15 10  6  6  9 11 14 10 14  7  4\n",
      " 12 19 13 13 10  6  5 11]\n"
     ]
    }
   ],
   "source": [
    "W,B,C = generateWBC(N,M,K)"
   ]
  },
  {
   "cell_type": "code",
   "execution_count": 4,
   "id": "9dcf2336",
   "metadata": {},
   "outputs": [
    {
     "name": "stdout",
     "output_type": "stream",
     "text": [
      "Matrix W:\n",
      " [[ 0  0 -1 ...  0  0  1]\n",
      " [-1  0  1 ...  0  0  0]\n",
      " [ 0  0  0 ...  0  0  0]\n",
      " ...\n",
      " [ 0  1  0 ...  0  0  0]\n",
      " [ 0  0  0 ...  1  0  0]\n",
      " [ 0  0  0 ...  0  0  1]]\n",
      "Matrix B:\n",
      " [[2.92294519 9.75379072 2.07474313 ... 1.53362228 5.30937755 4.61204898]\n",
      " [9.75379072 7.74148756 4.92313637 ... 9.17012431 1.68688845 3.20085905]\n",
      " [2.07474313 4.92313637 4.75467244 ... 5.5668573  1.04337464 8.80940421]\n",
      " ...\n",
      " [1.53362228 9.17012431 5.5668573  ... 3.99335325 1.87337685 5.83871045]\n",
      " [5.30937755 1.68688845 1.04337464 ... 1.87337685 6.7691452  2.96319588]\n",
      " [4.61204898 3.20085905 8.80940421 ... 5.83871045 2.96319588 5.5866312 ]]\n",
      "Vector C:\n",
      " [3.59983055 3.39385729 1.265088   1.49344228 3.55870071 3.7751265\n",
      " 4.90409562 9.58625675 7.50823168 2.47684646 4.92160847 9.05260703\n",
      " 9.33187351 4.24726811 5.2956184  4.34383614 5.21661166 4.09260537\n",
      " 5.34625023 1.09255633 9.10586439 3.52382756 2.69769437 2.83051227\n",
      " 1.83585718 8.43291682 8.37698818 2.58488313 8.05676521 9.19753339\n",
      " 4.23432236 8.09299525 7.85642064 7.46924361 4.80367105 5.3808241\n",
      " 4.30763004 8.8230287  5.97149883 3.60696715 7.82932205 9.00086303\n",
      " 4.82850009 5.67532183 2.80267105 5.34988216 8.9078574  9.19211161\n",
      " 5.96079466 6.95116408]\n"
     ]
    }
   ],
   "source": [
    "print(\"Matrix W:\\n\", W)\n",
    "print(\"Matrix B:\\n\", B)\n",
    "print(\"Vector C:\\n\", C)"
   ]
  },
  {
   "cell_type": "code",
   "execution_count": 5,
   "id": "081ef718",
   "metadata": {},
   "outputs": [
    {
     "name": "stdout",
     "output_type": "stream",
     "text": [
      "------DEBUG-----\n",
      "Initial F - 5.7795750806719635e+165\n"
     ]
    },
    {
     "data": {
      "image/png": "[encoded data removed]",
      "text/plain": [
       "<Figure size 432x288 with 1 Axes>"
      ]
     },
     "metadata": {
      "needs_background": "light"
     },
     "output_type": "display_data"
    }
   ],
   "source": [
    "vals = SSWM(M, N, K, coefLambda, coefC, coefBeta, h, p_mut, T_stop, N_pop, W, B, C)"
   ]
  },
  {
   "cell_type": "code",
   "execution_count": 6,
   "id": "efe14eec",
   "metadata": {},
   "outputs": [
    {
     "data": {
      "text/plain": [
       "(0.027018460623732088, -3.3695864541926577, [])"
      ]
     },
     "execution_count": 6,
     "metadata": {},
     "output_type": "execute_result"
    }
   ],
   "source": [
    "vals"
   ]
  },
  {
   "cell_type": "code",
   "execution_count": null,
   "id": "f572fb77",
   "metadata": {},
   "outputs": [],
   "source": []
  }
 ],
 "metadata": {
  "kernelspec": {
   "display_name": "Python 3 (ipykernel)",
   "language": "python",
   "name": "python3"
  },
  "language_info": {
   "codemirror_mode": {
    "name": "ipython",
    "version": 3
   },
   "file_extension": ".py",
   "mimetype": "text/x-python",
   "name": "python",
   "nbconvert_exporter": "python",
   "pygments_lexer": "ipython3",
   "version": "3.10.2"
  }
 },
 "nbformat": 4,
 "nbformat_minor": 5
}
